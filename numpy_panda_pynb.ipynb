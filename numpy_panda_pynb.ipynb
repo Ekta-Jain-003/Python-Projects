{
  "nbformat": 4,
  "nbformat_minor": 0,
  "metadata": {
    "colab": {
      "provenance": []
    },
    "kernelspec": {
      "name": "python3",
      "display_name": "Python 3"
    },
    "language_info": {
      "name": "python"
    }
  },
  "cells": [
    {
      "cell_type": "code",
      "source": [
        "import numpy as np\n",
        "import pandas as pd"
      ],
      "metadata": {
        "id": "OGfQcA898U3I"
      },
      "execution_count": null,
      "outputs": []
    },
    {
      "cell_type": "markdown",
      "source": [
        "# **NUMPY**"
      ],
      "metadata": {
        "id": "m1UuzlBx-ezd"
      }
    },
    {
      "cell_type": "code",
      "source": [
        "#Numpy\n",
        "array1=np.array([1,2,3,4])\n",
        "print(array1)"
      ],
      "metadata": {
        "colab": {
          "base_uri": "https://localhost:8080/"
        },
        "id": "4osKRL098l4R",
        "outputId": "ff948131-ed78-4b9e-fde8-c7229afeae41"
      },
      "execution_count": null,
      "outputs": [
        {
          "output_type": "stream",
          "name": "stdout",
          "text": [
            "[1 2 3 4]\n"
          ]
        }
      ]
    },
    {
      "cell_type": "code",
      "source": [
        "array1\n"
      ],
      "metadata": {
        "colab": {
          "base_uri": "https://localhost:8080/"
        },
        "id": "wULK8g9S9Lc6",
        "outputId": "0db3f139-7591-4e10-bf5b-22b4c9c4e657"
      },
      "execution_count": null,
      "outputs": [
        {
          "output_type": "execute_result",
          "data": {
            "text/plain": [
              "array([1, 2, 3, 4])"
            ]
          },
          "metadata": {},
          "execution_count": 5
        }
      ]
    },
    {
      "cell_type": "code",
      "source": [
        "array1[2]"
      ],
      "metadata": {
        "colab": {
          "base_uri": "https://localhost:8080/"
        },
        "id": "jV7WVInp9Wdx",
        "outputId": "00c3d90c-ffb4-4c9e-aedb-d1ada50654c1"
      },
      "execution_count": null,
      "outputs": [
        {
          "output_type": "execute_result",
          "data": {
            "text/plain": [
              "3"
            ]
          },
          "metadata": {},
          "execution_count": 6
        }
      ]
    },
    {
      "cell_type": "code",
      "source": [
        "array1[0:1]"
      ],
      "metadata": {
        "colab": {
          "base_uri": "https://localhost:8080/"
        },
        "id": "yoVJsZMB9hhT",
        "outputId": "2d986cc0-a537-4333-e651-98a239f97bec"
      },
      "execution_count": null,
      "outputs": [
        {
          "output_type": "execute_result",
          "data": {
            "text/plain": [
              "array([1])"
            ]
          },
          "metadata": {},
          "execution_count": 10
        }
      ]
    },
    {
      "cell_type": "code",
      "source": [
        "#checking numpy version\n",
        "import  numpy as np\n",
        "arr = np.array([1,3,5,6,8])\n",
        "print(arr)\n",
        "print(type(arr))"
      ],
      "metadata": {
        "colab": {
          "base_uri": "https://localhost:8080/"
        },
        "id": "Q4ufZTygYEFC",
        "outputId": "dfdfffd7-3030-4971-87f6-a9e95d670a8d"
      },
      "execution_count": null,
      "outputs": [
        {
          "output_type": "stream",
          "name": "stdout",
          "text": [
            "[1 3 5 6 8]\n",
            "<class 'numpy.ndarray'>\n"
          ]
        }
      ]
    },
    {
      "cell_type": "code",
      "source": [
        "#dimension in array\n",
        "#0-D array\n",
        "import numpy as np\n",
        "arr = np.array(29)\n",
        "print(arr)"
      ],
      "metadata": {
        "colab": {
          "base_uri": "https://localhost:8080/"
        },
        "id": "QrHawHI7YwWa",
        "outputId": "b51660d3-15ef-467c-bac6-392e6e03ca6d"
      },
      "execution_count": null,
      "outputs": [
        {
          "output_type": "stream",
          "name": "stdout",
          "text": [
            "29\n"
          ]
        }
      ]
    },
    {
      "cell_type": "code",
      "source": [
        "#1-D array\n",
        "import numpy as np\n",
        "arr = np.array([1,2,4,5,6])\n",
        "print(arr)"
      ],
      "metadata": {
        "colab": {
          "base_uri": "https://localhost:8080/"
        },
        "id": "CBXvMmE3ZJTC",
        "outputId": "d8dba0fc-2f14-480b-85a9-6c3d95c010ba"
      },
      "execution_count": null,
      "outputs": [
        {
          "output_type": "stream",
          "name": "stdout",
          "text": [
            "[1 2 4 5 6]\n"
          ]
        }
      ]
    },
    {
      "cell_type": "code",
      "source": [
        "#2-D array\n",
        "import numpy as np\n",
        "arr = np.array([[1,2,3,4],[4,5,7,8]])\n",
        "print(arr)"
      ],
      "metadata": {
        "id": "Hpa_SPJPZcFa",
        "colab": {
          "base_uri": "https://localhost:8080/"
        },
        "outputId": "9fceae6e-2789-4d0b-c25f-682524b37f4c"
      },
      "execution_count": null,
      "outputs": [
        {
          "output_type": "stream",
          "name": "stdout",
          "text": [
            "[[1 2 3 4]\n",
            " [4 5 7 8]]\n"
          ]
        }
      ]
    },
    {
      "cell_type": "markdown",
      "source": [
        "# **Numpy Ndim()**"
      ],
      "metadata": {
        "id": "qTswq6An-sM3"
      }
    },
    {
      "cell_type": "code",
      "source": [
        "#ndim attribute\n",
        "import numpy as np\n",
        "arr1=np.array(43)\n",
        "arr2=np.array([[1,2,3,4],[5,6,7,8]])\n",
        "arr3=np.array([1,2,3,4])\n",
        "print(arr2.ndim)\n",
        "print(arr1.ndim)"
      ],
      "metadata": {
        "colab": {
          "base_uri": "https://localhost:8080/"
        },
        "id": "zQ9rD8tJbTwi",
        "outputId": "2bb25c96-b306-420b-dcd8-22c93e08fc54"
      },
      "execution_count": null,
      "outputs": [
        {
          "output_type": "stream",
          "name": "stdout",
          "text": [
            "2\n",
            "0\n"
          ]
        }
      ]
    },
    {
      "cell_type": "code",
      "source": [
        "#slicing\n",
        "import numpy as np\n",
        "arr=np.array([2,3,4,5,6,78])\n",
        "print(arr[2:4])"
      ],
      "metadata": {
        "colab": {
          "base_uri": "https://localhost:8080/"
        },
        "id": "q6yrESkUdcxg",
        "outputId": "b6372501-ab92-4eaa-aa3e-c109a216a7f3"
      },
      "execution_count": null,
      "outputs": [
        {
          "output_type": "stream",
          "name": "stdout",
          "text": [
            "[4 5]\n"
          ]
        }
      ]
    },
    {
      "cell_type": "code",
      "source": [
        "import numpy as np\n",
        "import pandas as pd\n",
        "array1=np.array([1,12,34,56,82])\n",
        "print(array1)"
      ],
      "metadata": {
        "id": "j1txN5J2g-xq",
        "colab": {
          "base_uri": "https://localhost:8080/"
        },
        "outputId": "0a9e5843-946d-4537-c228-a17359031274"
      },
      "execution_count": null,
      "outputs": [
        {
          "output_type": "stream",
          "name": "stdout",
          "text": [
            "[ 1 12 34 56 82]\n"
          ]
        }
      ]
    },
    {
      "cell_type": "code",
      "source": [
        "import numpy as np\n",
        "array1=np.array([34,56,78,11])\n",
        "print(array1[1])\n",
        "print(array1[1:3])"
      ],
      "metadata": {
        "colab": {
          "base_uri": "https://localhost:8080/"
        },
        "id": "lvI6OWwALB1B",
        "outputId": "6c2fdde3-d805-445f-b470-bbd2ee575460"
      },
      "execution_count": null,
      "outputs": [
        {
          "output_type": "stream",
          "name": "stdout",
          "text": [
            "56\n",
            "[56 78]\n"
          ]
        }
      ]
    },
    {
      "cell_type": "code",
      "source": [
        "import numpy as np\n",
        "array2= np.array([[12,23,54,32],[42,45,65,76]])\n",
        "print(array2)"
      ],
      "metadata": {
        "id": "dRE7Rk7-MAgO",
        "colab": {
          "base_uri": "https://localhost:8080/"
        },
        "outputId": "5577046d-e420-4d12-bc87-5348bb053379"
      },
      "execution_count": null,
      "outputs": [
        {
          "output_type": "stream",
          "name": "stdout",
          "text": [
            "[[12 23 54 32]\n",
            " [42 45 65 76]]\n"
          ]
        }
      ]
    },
    {
      "cell_type": "code",
      "source": [
        "import numpy as np\n",
        "a=np.array([[1,2,3,4,5],[5,6,7,8,9]])\n",
        "print(a.ndim)"
      ],
      "metadata": {
        "colab": {
          "base_uri": "https://localhost:8080/"
        },
        "id": "scnQXbSqafgB",
        "outputId": "83c35125-b896-4a84-dbd9-73541e6e00f4"
      },
      "execution_count": null,
      "outputs": [
        {
          "output_type": "stream",
          "name": "stdout",
          "text": [
            "2\n"
          ]
        }
      ]
    },
    {
      "cell_type": "code",
      "source": [
        "import numpy as np\n",
        "array=np.arange(20)\n",
        "print(array)"
      ],
      "metadata": {
        "colab": {
          "base_uri": "https://localhost:8080/"
        },
        "id": "-j718MOfbF9Q",
        "outputId": "7cd61106-6ca2-4781-8781-cac3481d1893"
      },
      "execution_count": null,
      "outputs": [
        {
          "output_type": "stream",
          "name": "stdout",
          "text": [
            "[ 0  1  2  3  4  5  6  7  8  9 10 11 12 13 14 15 16 17 18 19]\n"
          ]
        }
      ]
    },
    {
      "cell_type": "code",
      "source": [
        "import numpy as np\n",
        "array1=np.arange(20,40)\n",
        "print(array1)"
      ],
      "metadata": {
        "colab": {
          "base_uri": "https://localhost:8080/"
        },
        "id": "idnLNVk1bvES",
        "outputId": "be928aa9-2f28-4d75-974b-c5f90fdceea4"
      },
      "execution_count": null,
      "outputs": [
        {
          "output_type": "stream",
          "name": "stdout",
          "text": [
            "[20 21 22 23 24 25 26 27 28 29 30 31 32 33 34 35 36 37 38 39]\n"
          ]
        }
      ]
    },
    {
      "cell_type": "code",
      "source": [
        "import numpy as np\n",
        "array2=np.arange(-20,40,6)\n",
        "print(array2)"
      ],
      "metadata": {
        "colab": {
          "base_uri": "https://localhost:8080/"
        },
        "id": "p6fyvfRab-Ya",
        "outputId": "07b3865d-7f41-443b-c442-6363f43e7314"
      },
      "execution_count": null,
      "outputs": [
        {
          "output_type": "stream",
          "name": "stdout",
          "text": [
            "[-20 -14  -8  -2   4  10  16  22  28  34]\n"
          ]
        }
      ]
    },
    {
      "cell_type": "code",
      "source": [
        "import numpy as np\n",
        "array3=np.arange(20,40,2)\n",
        "print(array3)\n"
      ],
      "metadata": {
        "colab": {
          "base_uri": "https://localhost:8080/"
        },
        "id": "E8U4UioFcNNU",
        "outputId": "531c6391-cd01-407d-c4a3-26ce2bd1c1b3"
      },
      "execution_count": null,
      "outputs": [
        {
          "output_type": "stream",
          "name": "stdout",
          "text": [
            "[20 22 24 26 28 30 32 34 36 38]\n"
          ]
        }
      ]
    },
    {
      "cell_type": "markdown",
      "source": [
        "# **PANDAS**"
      ],
      "metadata": {
        "id": "MMc5qwdZ--jU"
      }
    },
    {
      "cell_type": "code",
      "source": [
        "#panads\n",
        "#Pandas Series\n",
        "import numpy as np\n",
        "array1=np.linspace(12,34,16)\n",
        "print(array1)"
      ],
      "metadata": {
        "id": "zNH2N47AdC26"
      },
      "execution_count": null,
      "outputs": []
    },
    {
      "cell_type": "code",
      "source": [
        "import pandas as pd\n",
        "demo=[3,6]\n",
        "demo1=pd.Series(demo)\n",
        "print(demo1)"
      ],
      "metadata": {
        "colab": {
          "base_uri": "https://localhost:8080/"
        },
        "id": "Kz14ic_Mduar",
        "outputId": "4f6cbf69-d5cd-4a0d-e54d-d4ba9d04f548"
      },
      "execution_count": null,
      "outputs": [
        {
          "output_type": "stream",
          "name": "stdout",
          "text": [
            "0    3\n",
            "1    6\n",
            "dtype: int64\n"
          ]
        }
      ]
    },
    {
      "cell_type": "code",
      "source": [
        "import pandas as pd\n",
        "demo=[12,15,3]\n",
        "demo2=pd.Series(demo)\n",
        "print(demo1)"
      ],
      "metadata": {
        "colab": {
          "base_uri": "https://localhost:8080/"
        },
        "id": "Y48ckixmfOHv",
        "outputId": "b31293d8-b6cc-40c2-f983-a3eef1563609"
      },
      "execution_count": null,
      "outputs": [
        {
          "output_type": "stream",
          "name": "stdout",
          "text": [
            "0    12\n",
            "1    15\n",
            "2     3\n",
            "dtype: int64\n"
          ]
        }
      ]
    },
    {
      "cell_type": "code",
      "source": [
        "import pandas as pd\n",
        "demo=[1,2,3,4,5,6,7,8,9,10]\n",
        "demo3=pd.Series(demo)\n",
        "print(demo3)"
      ],
      "metadata": {
        "colab": {
          "base_uri": "https://localhost:8080/"
        },
        "id": "RTcLUw0BfjPm",
        "outputId": "88a0a98e-6c28-4c6b-d073-1960603d778a"
      },
      "execution_count": null,
      "outputs": [
        {
          "output_type": "stream",
          "name": "stdout",
          "text": [
            "0     1\n",
            "1     2\n",
            "2     3\n",
            "3     4\n",
            "4     5\n",
            "5     6\n",
            "6     7\n",
            "7     8\n",
            "8     9\n",
            "9    10\n",
            "dtype: int64\n"
          ]
        }
      ]
    },
    {
      "cell_type": "markdown",
      "source": [
        "# **Pandas DataFrame()**"
      ],
      "metadata": {
        "id": "OFVBeHFN_Mwg"
      }
    },
    {
      "cell_type": "code",
      "source": [
        "#Pandas DataFrame\n",
        "import pandas as pd\n",
        "dummy={\"Name\":\n",
        "       [\"Hari\",\"Rahul\",\"Rohit\",\"Ajay\",\"kanika\"],\n",
        "       \"Age\":[21,23,26,22,34],\n",
        "       \"Branch\":['AI','ML','CAD','DS','IOT']}\n",
        "df=pd.DataFrame(dummy)\n",
        "print(df)"
      ],
      "metadata": {
        "colab": {
          "base_uri": "https://localhost:8080/"
        },
        "id": "55cmIMizgdMv",
        "outputId": "b62d0ccd-bc5c-42eb-8d29-dad8fbcbd435"
      },
      "execution_count": null,
      "outputs": [
        {
          "output_type": "stream",
          "name": "stdout",
          "text": [
            "     Name  Age Branch\n",
            "0    Hari   21     AI\n",
            "1   Rahul   23     ML\n",
            "2   Rohit   26    CAD\n",
            "3    Ajay   22     DS\n",
            "4  kanika   34    IOT\n"
          ]
        }
      ]
    },
    {
      "cell_type": "code",
      "source": [
        "import pandas as pd\n",
        "deny={\"Name\":\n",
        "       [\"Atul\",\"Ravi\",\"Sumit\",\"Ayushi\",\"Raj\",\"Palak\",\"Shivani\"],\n",
        "         \"Age\":[21,23,33,22,45,25,16],\n",
        "        \"Branch\":['AI','DS','IT','CSE','IOT','AIML','ML'],\n",
        "        \"Technology\":['AWS','Azure','Python','DSA','AIML','UI-path','Google cloud']}\n",
        "df=pd.DataFrame(deny)\n",
        "print(df)"
      ],
      "metadata": {
        "colab": {
          "base_uri": "https://localhost:8080/"
        },
        "id": "pDYW7Zp6jUej",
        "outputId": "410dd7e4-ec99-463c-ee86-d7db88c21a45"
      },
      "execution_count": null,
      "outputs": [
        {
          "output_type": "stream",
          "name": "stdout",
          "text": [
            "      Name  Age Branch    Technology\n",
            "0     Atul   21     AI           AWS\n",
            "1     Ravi   23     DS         Azure\n",
            "2    Sumit   33     IT        Python\n",
            "3   Ayushi   22    CSE           DSA\n",
            "4      Raj   45    IOT          AIML\n",
            "5    Palak   25   AIML       UI-path\n",
            "6  Shivani   16     ML  Google cloud\n"
          ]
        }
      ]
    },
    {
      "cell_type": "code",
      "source": [
        "import pandas as pd\n",
        "data={\n",
        "    \"Calories\":[420,380,349,234],\n",
        "    \"Duration\":[50,20,30,23]\n",
        "}\n",
        "df=pd.DataFrame(data)\n",
        "print(df)\n",
        "print(df.loc[2])"
      ],
      "metadata": {
        "colab": {
          "base_uri": "https://localhost:8080/"
        },
        "id": "t9ZxetLr0BK7",
        "outputId": "709c9f40-038f-42da-a314-510db93de1d4"
      },
      "execution_count": null,
      "outputs": [
        {
          "output_type": "stream",
          "name": "stdout",
          "text": [
            "   Calories  Duration\n",
            "0       420        50\n",
            "1       380        20\n",
            "2       349        30\n",
            "3       234        23\n",
            "Calories    349\n",
            "Duration     30\n",
            "Name: 2, dtype: int64\n"
          ]
        }
      ]
    },
    {
      "cell_type": "code",
      "source": [
        "import pandas as pd\n",
        "data={\n",
        "    \"Course\":[\"B.tech\",\"BBA\",\"MCA\",\"BA\"],\n",
        "    \"Duration\":[4,3,2,3]\n",
        "}\n",
        "df=pd.DataFrame(data)\n",
        "print(df)\n",
        "print(type(df))"
      ],
      "metadata": {
        "colab": {
          "base_uri": "https://localhost:8080/"
        },
        "id": "M0AXbPvD44n3",
        "outputId": "0aad722d-ee0d-4e5c-b981-5ba4665c40e5"
      },
      "execution_count": null,
      "outputs": [
        {
          "output_type": "stream",
          "name": "stdout",
          "text": [
            "   Course  Duration\n",
            "0  B.tech         4\n",
            "1     BBA         3\n",
            "2     MCA         2\n",
            "3      BA         3\n",
            "<class 'pandas.core.frame.DataFrame'>\n"
          ]
        }
      ]
    },
    {
      "cell_type": "code",
      "source": [
        "#Pandas info()\n",
        "import pandas as pd\n",
        "data={\n",
        "    \"Employee_Name\":[\"Rohit\",\"Rahul\",\"Ravi\",\"Kanika\",\"Ajay\"],\n",
        "    \"Employee_Id\":[\"ARPS\",\"PRMN\",\"ZMPW\",\"PQRS\",\"ABCD\"]}\n",
        "df=pd.DataFrame(data)\n",
        "demo=df.info()\n",
        "print(demo)"
      ],
      "metadata": {
        "colab": {
          "base_uri": "https://localhost:8080/"
        },
        "id": "07-33Lkg6byl",
        "outputId": "ca8597e3-91d9-4f20-a6be-a9d2a29c9754"
      },
      "execution_count": null,
      "outputs": [
        {
          "output_type": "stream",
          "name": "stdout",
          "text": [
            "<class 'pandas.core.frame.DataFrame'>\n",
            "RangeIndex: 5 entries, 0 to 4\n",
            "Data columns (total 2 columns):\n",
            " #   Column         Non-Null Count  Dtype \n",
            "---  ------         --------------  ----- \n",
            " 0   Employee_Name  5 non-null      object\n",
            " 1   Employee_Id    5 non-null      object\n",
            "dtypes: object(2)\n",
            "memory usage: 208.0+ bytes\n",
            "None\n"
          ]
        }
      ]
    },
    {
      "cell_type": "code",
      "source": [
        "#isnull()\n",
        "import pandas as pd\n",
        "data={\n",
        "    \"Calories\":[420,380,349,234],\n",
        "    \"Duration\":[50,20,30,23]\n",
        "}\n",
        "df=pd.DataFrame(data)\n",
        "deny=df.isnull()\n",
        "print(deny)"
      ],
      "metadata": {
        "colab": {
          "base_uri": "https://localhost:8080/"
        },
        "id": "iLc6glSlA2sT",
        "outputId": "083f0e32-1b9d-48b1-81ee-981bd9257c7d"
      },
      "execution_count": null,
      "outputs": [
        {
          "output_type": "stream",
          "name": "stdout",
          "text": [
            "   Calories  Duration\n",
            "0     False     False\n",
            "1     False     False\n",
            "2     False     False\n",
            "3     False     False\n"
          ]
        }
      ]
    },
    {
      "cell_type": "code",
      "source": [
        "#isnull().sum()\n",
        "import pandas as pd\n",
        "data={\n",
        "    \"Employee_Name\":[\"Rohit\",\"Rahul\",\"Ravi\",\"Kanika\",\"Ajay\"],\n",
        "    \"Employee_Id\":[234,456,768,456,987]}\n",
        "df=pd.DataFrame(data)\n",
        "dummy=df.isnull().sum()\n",
        "print(dummy)"
      ],
      "metadata": {
        "colab": {
          "base_uri": "https://localhost:8080/"
        },
        "id": "27lYBUrKCEXX",
        "outputId": "7fa1cfeb-c0a4-4bd8-ab60-18ea0e85a263"
      },
      "execution_count": null,
      "outputs": [
        {
          "output_type": "stream",
          "name": "stdout",
          "text": [
            "Employee_Name    0\n",
            "Employee_Id      0\n",
            "dtype: int64\n"
          ]
        }
      ]
    },
    {
      "cell_type": "code",
      "source": [
        "# loc & iloc\n",
        "import pandas as pd\n",
        "data=[[30,'True'],[20,'False'],[40,'True'],[50,'False']]\n",
        "label_rows=[\"Ekta\",\"Aayushi\",\"Samyak\",\"Shreya\"]\n",
        "label_cols=[\"Akshita\",\"Prakshal\"]\n",
        "df = pd.DataFrame(data, label_rows, label_cols)\n",
        "print(df.loc[\"Aayushi\",\"Prakshal\"])"
      ],
      "metadata": {
        "id": "oxdkT7xRC8HD",
        "colab": {
          "base_uri": "https://localhost:8080/"
        },
        "outputId": "4f525d62-ccb9-4bf8-931c-83ddabf7261c"
      },
      "execution_count": null,
      "outputs": [
        {
          "output_type": "stream",
          "name": "stdout",
          "text": [
            "False\n"
          ]
        }
      ]
    },
    {
      "cell_type": "code",
      "source": [
        "import pandas as pd\n",
        "data={\"Name\":\n",
        "    [\"Aayushi\",\"Ekta\",\"Samyak\",\"Prakshal\",\"Akshita\"],\n",
        "      \"Age\":[23,21,19,15,11]}\n",
        "df=pd.DataFrame(data)\n",
        "print(df.loc[0:2,\"Nme\":\"Age\"])"
      ],
      "metadata": {
        "id": "GU7diJ3yES-t",
        "colab": {
          "base_uri": "https://localhost:8080/"
        },
        "outputId": "9b5f2cf5-41c4-49de-dbc9-5773b81a402a"
      },
      "execution_count": null,
      "outputs": [
        {
          "output_type": "stream",
          "name": "stdout",
          "text": [
            "      Name  Age\n",
            "0  Aayushi   23\n",
            "1     Ekta   21\n",
            "2   Samyak   19\n"
          ]
        }
      ]
    },
    {
      "cell_type": "code",
      "source": [
        "import pandas as pd\n",
        "data={\"Name\":[\"Aayushi\",\"Ekta\",\"Samyak\",\"Prakshal\",\"Akshita\"],\n",
        "      \"Age\":[23,21,19,15,11]}\n",
        "df=pd.DataFrame(data)\n",
        "print(df.loc[1:4,\"Name\":\"Age\"])\n"
      ],
      "metadata": {
        "id": "dOCquiETEUW5",
        "colab": {
          "base_uri": "https://localhost:8080/"
        },
        "outputId": "d2b286d3-050d-44a3-b35a-4bfd97bebc26"
      },
      "execution_count": null,
      "outputs": [
        {
          "output_type": "stream",
          "name": "stdout",
          "text": [
            "       Name  Age\n",
            "1      Ekta   21\n",
            "2    Samyak   19\n",
            "3  Prakshal   15\n",
            "4   Akshita   11\n"
          ]
        }
      ]
    },
    {
      "cell_type": "code",
      "source": [
        "# Pandas Drop()\n",
        "# Remove Defaulter Friends\n",
        "import pandas as pd\n",
        "data={\"Name\":[\"Rishabh\",\"Pankaj\",\"Ajay\",\"Ishu\",\"Aman\",\"Vasu\",\"Akshat\"],\n",
        "       \"Defaulter_friend\":[\"Pankaj\",\"Aman\",\"Rishabh\",\"Diya\",\"Riya\",\"Adrash\",\"Priyanshu\"],\n",
        "       \"Best Friend\":[\"Ajay\",\"Ishu\",\"Vasu\",\"Akshat\",\"Shreya\",\"Jyoti\",\"Krishna\"]}\n",
        "df=pd.DataFrame(data)\n",
        "newdf=df.drop(\"Defaulter_friend\",axis='columns')\n",
        "print(newdf)\n"
      ],
      "metadata": {
        "colab": {
          "base_uri": "https://localhost:8080/"
        },
        "id": "NQQI3A6sjdQw",
        "outputId": "8033bd0d-1356-4b50-d604-b8f5293f5c24"
      },
      "execution_count": null,
      "outputs": [
        {
          "output_type": "stream",
          "name": "stdout",
          "text": [
            "      Name Best Friend\n",
            "0  Rishabh        Ajay\n",
            "1   Pankaj        Ishu\n",
            "2     Ajay        Vasu\n",
            "3     Ishu      Akshat\n",
            "4     Aman      Shreya\n",
            "5     Vasu       Jyoti\n",
            "6   Akshat     Krishna\n"
          ]
        }
      ]
    },
    {
      "cell_type": "code",
      "source": [
        "import pandas as pd\n",
        "deny={\"Name\":\n",
        "       [\"Atul\",\"Ravi\",\"Sumit\",\"Ayushi\",\"Raj\",\"Palak\",\"Shivani\"],\n",
        "         \"Age\":[21,23,33,22,45,25,16],\n",
        "        \"Branch\":['AI','DS','IT','CSE','IOT','AIML','ML'],\n",
        "      \"Technology\":['AWS','Azure','Python','DSA','AIML','UI-path','Google cloud']}\n",
        "df=pd.DataFrame(deny)\n",
        "new_df=df.drop(\"Age\",axis=1)\n",
        "print(new_df)"
      ],
      "metadata": {
        "colab": {
          "base_uri": "https://localhost:8080/"
        },
        "id": "dSf06yGIwniM",
        "outputId": "86ce787d-2639-4283-bff8-130ffe807c90"
      },
      "execution_count": null,
      "outputs": [
        {
          "output_type": "stream",
          "name": "stdout",
          "text": [
            "      Name Branch    Technology\n",
            "0     Atul     AI           AWS\n",
            "1     Ravi     DS         Azure\n",
            "2    Sumit     IT        Python\n",
            "3   Ayushi    CSE           DSA\n",
            "4      Raj    IOT          AIML\n",
            "5    Palak   AIML       UI-path\n",
            "6  Shivani     ML  Google cloud\n"
          ]
        }
      ]
    },
    {
      "cell_type": "markdown",
      "source": [],
      "metadata": {
        "id": "vN4_ifV-atkt"
      }
    }
  ]
}