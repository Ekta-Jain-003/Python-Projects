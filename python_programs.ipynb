{
  "nbformat": 4,
  "nbformat_minor": 0,
  "metadata": {
    "colab": {
      "provenance": []
    },
    "kernelspec": {
      "name": "python3",
      "display_name": "Python 3"
    },
    "language_info": {
      "name": "python"
    }
  },
  "cells": [
    {
      "cell_type": "markdown",
      "source": [
        "# **Program 1**"
      ],
      "metadata": {
        "id": "s9nGmUN--CYq"
      }
    },
    {
      "cell_type": "markdown",
      "source": [
        "**Write a python program to check if a Number is Positive , Negative or zero**"
      ],
      "metadata": {
        "id": "wcHWquCx-Vxa"
      }
    },
    {
      "cell_type": "code",
      "source": [
        "num=float(input(\"Enter the number:\"))\n",
        "if num>0:\n",
        "  print(\"Positive Number\")\n",
        "elif num==0:\n",
        "  print(\"Zero\")\n",
        "else:\n",
        "  print(\"Negative Number\")"
      ],
      "metadata": {
        "id": "77LiyEFo-Jpf"
      },
      "execution_count": null,
      "outputs": []
    },
    {
      "cell_type": "markdown",
      "source": [
        "# **Program 2**"
      ],
      "metadata": {
        "id": "HF1RnWm7wLkz"
      }
    },
    {
      "cell_type": "markdown",
      "source": [
        "**Write a python program to check if a Number is Odd or Even**"
      ],
      "metadata": {
        "id": "TzGQXMDe-MQU"
      }
    },
    {
      "cell_type": "code",
      "source": [
        "num = int(input(\"Enter the number:\"))\n",
        "\n",
        "if num%2 == 0:\n",
        "    print(\"Even Number\")\n",
        "else:\n",
        "    print(\"Odd Number\")\n",
        "\n",
        "\n"
      ],
      "metadata": {
        "colab": {
          "base_uri": "https://localhost:8080/"
        },
        "id": "5g_bt-hnwVIc",
        "outputId": "b76b067e-835a-41bc-8da1-d94a92ba1dee"
      },
      "execution_count": null,
      "outputs": [
        {
          "output_type": "stream",
          "name": "stdout",
          "text": [
            "Enter the number:57\n",
            "Odd Number\n"
          ]
        }
      ]
    },
    {
      "cell_type": "markdown",
      "source": [
        "# **Program 3**"
      ],
      "metadata": {
        "id": "tLYzvkeaxPyj"
      }
    },
    {
      "cell_type": "markdown",
      "source": [
        "**Write a Python program to check Leap year or Not**"
      ],
      "metadata": {
        "id": "iWSzY67z-hMA"
      }
    },
    {
      "cell_type": "code",
      "source": [
        "year = int(input(\"Enter the Year:\"))\n",
        "\n",
        "if (year % 400==0) and (year%100==0):\n",
        "  print(\"Year is leap year\")\n",
        "elif (year%4==0) and (year%100!=0):\n",
        "  print(\"Year is leap year\")\n",
        "else:\n",
        "  print(\"Year is not a leap year\")"
      ],
      "metadata": {
        "id": "K7ex9I5cxYTH",
        "colab": {
          "base_uri": "https://localhost:8080/"
        },
        "outputId": "df8900d6-4f5a-4f78-8154-57de6bc43194"
      },
      "execution_count": null,
      "outputs": [
        {
          "output_type": "stream",
          "name": "stdout",
          "text": [
            "Enter the Year:2024\n",
            "Year is leap year\n"
          ]
        }
      ]
    },
    {
      "cell_type": "markdown",
      "source": [
        "# **Program 4**"
      ],
      "metadata": {
        "id": "IoL8YqIpJEXD"
      }
    },
    {
      "cell_type": "markdown",
      "source": [
        "**write a python program to check prime number**"
      ],
      "metadata": {
        "id": "T3SLrONz-riO"
      }
    },
    {
      "cell_type": "code",
      "source": [
        "num = int(input(\"Enter the number:\"))\n",
        "\n",
        "flag=False\n",
        "\n",
        "if num==1:\n",
        "  print(num, \"is not a prime number\")\n",
        "elif num>1:\n",
        "  for i in range(2,num):\n",
        "    if (num % i) ==0:\n",
        "      flag=True\n",
        "      break\n",
        "\n",
        "if flag:\n",
        "  print(num, \"is not a prime number\")\n",
        "else:\n",
        "  print(num, \"is prime number\")"
      ],
      "metadata": {
        "id": "WendFDNExYlE",
        "colab": {
          "base_uri": "https://localhost:8080/"
        },
        "outputId": "b948203f-2507-4ce8-a6df-f2ae7d3ef250"
      },
      "execution_count": null,
      "outputs": [
        {
          "output_type": "stream",
          "name": "stdout",
          "text": [
            "Enter the number:21\n",
            "21 is not a prime number\n"
          ]
        }
      ]
    },
    {
      "cell_type": "markdown",
      "source": [
        "# **Program 5**"
      ],
      "metadata": {
        "id": "MGBlo7ZILVZ5"
      }
    },
    {
      "cell_type": "markdown",
      "source": [
        "**Write a python program to print all prime number in the interval of 1-10**"
      ],
      "metadata": {
        "id": "wSKLwFoz-4jP"
      }
    },
    {
      "cell_type": "code",
      "source": [
        "lower=1\n",
        "upper=10\n",
        "print(\"Print prime number between\",lower, \"and\",upper,\"are :\")\n",
        "for num in range(lower,upper+1):\n",
        "  if num>1:\n",
        "     for i in range(2,num):\n",
        "      if (num%i)==0:\n",
        "        break\n",
        "     else:\n",
        "      print(num)"
      ],
      "metadata": {
        "colab": {
          "base_uri": "https://localhost:8080/"
        },
        "id": "BlYo8TA7LsIa",
        "outputId": "6f970557-43c4-4e5e-d7cb-d590fb40ff7b"
      },
      "execution_count": null,
      "outputs": [
        {
          "output_type": "stream",
          "name": "stdout",
          "text": [
            "Print prime number between 1 and 10 are :\n",
            "2\n",
            "3\n",
            "5\n",
            "7\n"
          ]
        }
      ]
    },
    {
      "cell_type": "markdown",
      "source": [
        "# **program 6**"
      ],
      "metadata": {
        "id": "3Er-q88LN6cH"
      }
    },
    {
      "cell_type": "markdown",
      "source": [
        "**Write a python program to print the factorial of a number**"
      ],
      "metadata": {
        "id": "XDgMBGkZ_CBs"
      }
    },
    {
      "cell_type": "code",
      "source": [
        "num=int(input(\"Enter the number:\"))\n",
        "factorial=1\n",
        "if num<0:\n",
        "  print(\"Factorial does not exist for Negative numbers\")\n",
        "elif num==0:\n",
        "  print(\"Factorial of 0 is 1\")\n",
        "else:\n",
        "  for i in range(1,num+1):\n",
        "    factorial=factorial*i\n",
        "  print(\"The factorial of\",num, \"is\",factorial)\n"
      ],
      "metadata": {
        "id": "yLu4mp3XOAga",
        "colab": {
          "base_uri": "https://localhost:8080/"
        },
        "outputId": "d3f1a9c7-7ef4-40c6-a701-7f6e995c9c5d"
      },
      "execution_count": null,
      "outputs": [
        {
          "output_type": "stream",
          "name": "stdout",
          "text": [
            "Enter the number:5\n",
            "The factorial of 5 is 120\n"
          ]
        }
      ]
    },
    {
      "cell_type": "markdown",
      "source": [
        "# **Program 7**"
      ],
      "metadata": {
        "id": "G9LDxMvBw9GI"
      }
    },
    {
      "cell_type": "markdown",
      "source": [
        "**Write a python program to Display the multiplication Table**"
      ],
      "metadata": {
        "id": "dK2cUtHg_Xpn"
      }
    },
    {
      "cell_type": "code",
      "source": [
        "num=int(input(\"Enter the number :\"))\n",
        "\n",
        "for i in range(1,11):\n",
        "  print(num,\" * \",i ,\"=\",num*i)\n"
      ],
      "metadata": {
        "colab": {
          "base_uri": "https://localhost:8080/"
        },
        "id": "uhYle9kXxERS",
        "outputId": "8921bb4e-53a5-4e8c-8f18-bdbc220170bd"
      },
      "execution_count": null,
      "outputs": [
        {
          "output_type": "stream",
          "name": "stdout",
          "text": [
            "Enter the number :14\n",
            "14  *  1 = 14\n",
            "14  *  2 = 28\n",
            "14  *  3 = 42\n",
            "14  *  4 = 56\n",
            "14  *  5 = 70\n",
            "14  *  6 = 84\n",
            "14  *  7 = 98\n",
            "14  *  8 = 112\n",
            "14  *  9 = 126\n",
            "14  *  10 = 140\n"
          ]
        }
      ]
    },
    {
      "cell_type": "markdown",
      "source": [
        "# **Program 8**"
      ],
      "metadata": {
        "id": "Lya5dlQjz_rt"
      }
    },
    {
      "cell_type": "markdown",
      "source": [
        "**Write a python program to print fibonacci sequence**"
      ],
      "metadata": {
        "id": "MPrV9ssQ_eWT"
      }
    },
    {
      "cell_type": "code",
      "source": [
        "nterms=int(input(\"How many terms:\"))\n",
        "n1,n2=0,1\n",
        "count=0\n",
        "if nterms<=0:\n",
        "  print(\"Please enter a positive number\")\n",
        "elif nterms==1:\n",
        "  print(\"Fibonacci sequence upto\",nterms,\":\")\n",
        "else:\n",
        "  print(\"Fibonacci sequence:\")\n",
        "  while count<nterms:\n",
        "    print(n1)\n",
        "    nth=n1+n2\n",
        "    n1=n2\n",
        "    n2=nth\n",
        "    count=count+1"
      ],
      "metadata": {
        "colab": {
          "base_uri": "https://localhost:8080/"
        },
        "id": "rpGii9Ii0j30",
        "outputId": "92d14162-4d7a-4098-bbe0-f1d8427c8867"
      },
      "execution_count": null,
      "outputs": [
        {
          "output_type": "stream",
          "name": "stdout",
          "text": [
            "How many terms:10\n",
            "Fibonacci sequence:\n",
            "0\n",
            "1\n",
            "1\n",
            "2\n",
            "3\n",
            "5\n",
            "8\n",
            "13\n",
            "21\n",
            "34\n"
          ]
        }
      ]
    },
    {
      "cell_type": "markdown",
      "source": [
        "# **Program 9**\n"
      ],
      "metadata": {
        "id": "gZcJplwYz_vU"
      }
    },
    {
      "cell_type": "markdown",
      "source": [
        "**Write a python program to check Armstrong Number**"
      ],
      "metadata": {
        "id": "svB9vMu1_oVP"
      }
    },
    {
      "cell_type": "code",
      "source": [
        "num=int(input(\"Enter a number:\"))\n",
        "num_str=str(num)\n",
        "num_digits=len(num_str)\n",
        "sum_of_powers=0\n",
        "temp_num=num\n",
        "while temp_num >0:\n",
        "  digits = temp_num%10\n",
        "  sum_of_powers+= digits**num_digits\n",
        "  temp_num //=10\n",
        "\n",
        "if sum_of_powers ==num:\n",
        "  print(num,\"is a Armstrong Number\")\n",
        "else:\n",
        "  print(num,\"is not a Armstrong Number\")"
      ],
      "metadata": {
        "colab": {
          "base_uri": "https://localhost:8080/"
        },
        "id": "JiEzDshR0it0",
        "outputId": "ee1dcb5e-52cb-467f-8014-a974305b1641"
      },
      "execution_count": null,
      "outputs": [
        {
          "output_type": "stream",
          "name": "stdout",
          "text": [
            "Enter a number:153\n",
            "153 is a Armstrong Number\n"
          ]
        }
      ]
    },
    {
      "cell_type": "markdown",
      "source": [
        "# **Program 10**"
      ],
      "metadata": {
        "id": "hxLoxg1L8hkx"
      }
    },
    {
      "cell_type": "markdown",
      "source": [
        "**write a python program to find the Sum of Natural number**"
      ],
      "metadata": {
        "id": "aGwjsx6I_wrQ"
      }
    },
    {
      "cell_type": "code",
      "source": [
        "limit=int(input(\"Enter the Limit:\"))\n",
        "sum=0\n",
        "\n",
        "for i in range(1,limit+1):\n",
        "  sum+=i\n",
        "\n",
        "print(\"The sum of natural number upto\", limit ,\"is\",sum)"
      ],
      "metadata": {
        "colab": {
          "base_uri": "https://localhost:8080/"
        },
        "id": "BGCxZakp8p-R",
        "outputId": "e5303124-4486-4f7a-ada3-bc5584026a4f"
      },
      "execution_count": null,
      "outputs": [
        {
          "output_type": "stream",
          "name": "stdout",
          "text": [
            "Enter the Limit:10\n",
            "The sum of natural number upto 10 is 55\n"
          ]
        }
      ]
    },
    {
      "cell_type": "markdown",
      "source": [
        "# **Program 11**"
      ],
      "metadata": {
        "id": "buimtKT6AYid"
      }
    },
    {
      "cell_type": "markdown",
      "source": [
        "**Write a pyton program to find LCM**"
      ],
      "metadata": {
        "id": "gP2MbrZLAeGG"
      }
    },
    {
      "cell_type": "code",
      "source": [
        "def compute_lcm(x,y):\n",
        "  if x>y:\n",
        "    greater=x\n",
        "  else:\n",
        "    greater=y\n",
        "  while(True):\n",
        "    if ((greater % x==0) and (greater % y==0)):\n",
        "      lcm=greater\n",
        "      break\n",
        "    greater+=1\n",
        "  return lcm\n",
        "\n",
        "num1=int(input(\"Enter the First Number:\"))\n",
        "num2=int(input(\"Enter the Second number:\"))\n",
        "\n",
        "print (\"The LCM is\",compute_lcm(num1,num2))\n"
      ],
      "metadata": {
        "colab": {
          "base_uri": "https://localhost:8080/"
        },
        "id": "EtLlSY4QAsQE",
        "outputId": "be46eacc-53d2-4ccb-ca7b-8fbf4b04b47f"
      },
      "execution_count": null,
      "outputs": [
        {
          "output_type": "stream",
          "name": "stdout",
          "text": [
            "Enter the First Number:2\n",
            "Enter the Second number:3\n",
            "The LCM is 6\n"
          ]
        }
      ]
    },
    {
      "cell_type": "markdown",
      "source": [
        "# **Program 12**"
      ],
      "metadata": {
        "id": "7M42iLW4B9-n"
      }
    },
    {
      "cell_type": "markdown",
      "source": [
        "**Write a python program to find HCF**"
      ],
      "metadata": {
        "id": "YjFuUTMPCMbg"
      }
    },
    {
      "cell_type": "code",
      "source": [
        "def compute_hcf(x,y):\n",
        "  if x>y:\n",
        "    smaller=y\n",
        "  else:\n",
        "    smaller=x\n",
        "    for i in range(1, smaller+1):\n",
        "      if ((x % i == 0) and ( y% i == 0)):\n",
        "        hcf=i\n",
        "    return hcf\n",
        "num1=int(input(\"Enter the First number\"))\n",
        "num2=int (input(\"Enter the Second number\"))\n",
        "\n",
        "print(\"The hcf is\",compute_hcf(num1,num2))"
      ],
      "metadata": {
        "colab": {
          "base_uri": "https://localhost:8080/"
        },
        "id": "_1K8f2RTCWpj",
        "outputId": "6ab15062-99eb-46db-d4bf-342dfef434bf"
      },
      "execution_count": null,
      "outputs": [
        {
          "output_type": "stream",
          "name": "stdout",
          "text": [
            "Enter the First number54\n",
            "Enter the Second number24\n",
            "The hcf is None\n"
          ]
        }
      ]
    },
    {
      "cell_type": "markdown",
      "source": [
        "# **Program 13**"
      ],
      "metadata": {
        "id": "AY7aDm0rDn94"
      }
    },
    {
      "cell_type": "markdown",
      "source": [
        "**Write a python program to Convert Decimal into Binary,\n",
        " Octal, Hexadecimal.**"
      ],
      "metadata": {
        "id": "vPrMQv1FDr84"
      }
    },
    {
      "cell_type": "code",
      "source": [
        "dec_num=int(input(\"Enter the  Decimal Number:\"))\n",
        "print(\"The decimal value of\",dec_num,\"is\")\n",
        "print(bin(dec_num),\"in Binary.\")\n",
        "print(oct(dec_num),\"in Octal.\")\n",
        "print(hex(dec_num),\"in Hexadecimal.\")"
      ],
      "metadata": {
        "colab": {
          "base_uri": "https://localhost:8080/"
        },
        "id": "Xb9qvi0UEHD6",
        "outputId": "90dfdfa3-b64b-44ef-8cfb-e738b9a33c04"
      },
      "execution_count": null,
      "outputs": [
        {
          "output_type": "stream",
          "name": "stdout",
          "text": [
            "Enter the  Decimal Number:27\n",
            "The decimal value of 27 is\n",
            "0b11011 in Binary.\n",
            "0o33 in Octal.\n",
            "0x1b in Hexadecimal.\n"
          ]
        }
      ]
    },
    {
      "cell_type": "markdown",
      "source": [
        "# **Program 14**"
      ],
      "metadata": {
        "id": "Hth2JEDQE_Bm"
      }
    },
    {
      "cell_type": "markdown",
      "source": [
        "**Write a python program to find ASCII value of a character**"
      ],
      "metadata": {
        "id": "2qiXHXXpFGxv"
      }
    },
    {
      "cell_type": "code",
      "source": [
        "char=str(input(\"Enter the Character\"))\n",
        "print(\"The ASCII value is\",char,\"is\",ord(char))"
      ],
      "metadata": {
        "colab": {
          "base_uri": "https://localhost:8080/"
        },
        "id": "1Rk_Y4w7FZBF",
        "outputId": "6512a325-eb80-4399-b308-f74d2b663ff1"
      },
      "execution_count": null,
      "outputs": [
        {
          "output_type": "stream",
          "name": "stdout",
          "text": [
            "Enter the Characterp\n",
            "The ASCII value is p is 112\n"
          ]
        }
      ]
    },
    {
      "cell_type": "markdown",
      "source": [
        "# **Program 15**"
      ],
      "metadata": {
        "id": "jxSicM9HFyMR"
      }
    },
    {
      "cell_type": "markdown",
      "source": [
        "**Write a python program to Make a simple calculator with 4 basic mathematical operation**"
      ],
      "metadata": {
        "id": "_GORvK9mGDXU"
      }
    },
    {
      "cell_type": "code",
      "source": [
        "def add(x,y):\n",
        "  return x+y\n",
        "\n",
        "def subtract(x,y):\n",
        "  return x-y\n",
        "\n",
        "def multiply(x,y):\n",
        "  return x*y\n",
        "\n",
        "def divide(x,y):\n",
        "  return x/y\n",
        "\n",
        "print(\"select choice:\")\n",
        "print(\"1. Addition\")\n",
        "print(\"2. Subtraction\")\n",
        "print(\"3. Multiplication\")\n",
        "print(\"4. Division\")\n",
        "\n",
        "while True:\n",
        "  choice=input(\"Enter Choice(1/2/3/4):\")\n",
        "\n",
        "  if choice in (\"1\",\"2\",\"3\",\"4\"):\n",
        "    try:\n",
        "      num1=float(input(\"Enter first number :\"))\n",
        "      num2=float(input(\"Enter second number :\"))\n",
        "    except ValueError:\n",
        "      print(\"Invalid input. Please enter a number:\")\n",
        "      continue\n",
        "\n",
        "\n",
        "    if choice==\"1\":\n",
        "      print(num1,\"+\",num2,\"=\",add(num1,num2))\n",
        "\n",
        "    elif choice==\"2\":\n",
        "      print(num1,\"-\",num2,\"=\",subtract(num1,num2))\n",
        "\n",
        "    elif choice==\"3\":\n",
        "      print(num1,\"*\",num2,\"=\",multiply(num1,num2))\n",
        "\n",
        "    elif choice==\"4\":\n",
        "      print(num1, \"/\", num2, \"=\", divide(num1,num2))\n",
        "\n",
        "  else:\n",
        "    print(\"Invalid Input\")"
      ],
      "metadata": {
        "id": "W-5SVxuEGdDa",
        "colab": {
          "base_uri": "https://localhost:8080/"
        },
        "outputId": "305baa98-e422-4830-f222-61604b98b52b"
      },
      "execution_count": null,
      "outputs": [
        {
          "output_type": "stream",
          "name": "stdout",
          "text": [
            "select choice:\n",
            "1. Addition\n",
            "2. Subtraction\n",
            "3. Multiplication\n",
            "4. Division\n",
            "Enter Choice(1/2/3/4):2\n",
            "Enter first number :43\n",
            "Enter second number :9\n",
            "43.0 - 9.0 = 34.0\n",
            "Enter Choice(1/2/3/4):4\n",
            "Enter first number :45\n",
            "Enter second number :7\n",
            "45.0 / 7.0 = 6.428571428571429\n"
          ]
        }
      ]
    }
  ]
}